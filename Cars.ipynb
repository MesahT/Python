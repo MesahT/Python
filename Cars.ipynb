{
 "cells": [
  {
   "cell_type": "code",
   "execution_count": 1,
   "id": "377711d9",
   "metadata": {},
   "outputs": [],
   "source": [
    "#Importing the modules to be used\n",
    "import pandas as pd \n",
    "import numpy as np \n",
    "import matplotlib.pyplot as plt "
   ]
  },
  {
   "cell_type": "code",
   "execution_count": 8,
   "id": "64866920",
   "metadata": {},
   "outputs": [
    {
     "data": {
      "text/html": [
       "<div>\n",
       "<style scoped>\n",
       "    .dataframe tbody tr th:only-of-type {\n",
       "        vertical-align: middle;\n",
       "    }\n",
       "\n",
       "    .dataframe tbody tr th {\n",
       "        vertical-align: top;\n",
       "    }\n",
       "\n",
       "    .dataframe thead th {\n",
       "        text-align: right;\n",
       "    }\n",
       "</style>\n",
       "<table border=\"1\" class=\"dataframe\">\n",
       "  <thead>\n",
       "    <tr style=\"text-align: right;\">\n",
       "      <th></th>\n",
       "      <th>mpg</th>\n",
       "      <th>cylinders</th>\n",
       "      <th>displacement</th>\n",
       "      <th>horsepower</th>\n",
       "      <th>weight</th>\n",
       "      <th>acceleration</th>\n",
       "      <th>model_year</th>\n",
       "      <th>origin</th>\n",
       "      <th>name</th>\n",
       "    </tr>\n",
       "  </thead>\n",
       "  <tbody>\n",
       "    <tr>\n",
       "      <th>0</th>\n",
       "      <td>18.0</td>\n",
       "      <td>8</td>\n",
       "      <td>307.0</td>\n",
       "      <td>130.0</td>\n",
       "      <td>3504</td>\n",
       "      <td>12.0</td>\n",
       "      <td>70</td>\n",
       "      <td>usa</td>\n",
       "      <td>chevrolet chevelle malibu</td>\n",
       "    </tr>\n",
       "    <tr>\n",
       "      <th>1</th>\n",
       "      <td>15.0</td>\n",
       "      <td>8</td>\n",
       "      <td>350.0</td>\n",
       "      <td>165.0</td>\n",
       "      <td>3693</td>\n",
       "      <td>11.5</td>\n",
       "      <td>70</td>\n",
       "      <td>usa</td>\n",
       "      <td>buick skylark 320</td>\n",
       "    </tr>\n",
       "    <tr>\n",
       "      <th>2</th>\n",
       "      <td>18.0</td>\n",
       "      <td>8</td>\n",
       "      <td>318.0</td>\n",
       "      <td>150.0</td>\n",
       "      <td>3436</td>\n",
       "      <td>11.0</td>\n",
       "      <td>70</td>\n",
       "      <td>usa</td>\n",
       "      <td>plymouth satellite</td>\n",
       "    </tr>\n",
       "    <tr>\n",
       "      <th>3</th>\n",
       "      <td>16.0</td>\n",
       "      <td>8</td>\n",
       "      <td>304.0</td>\n",
       "      <td>150.0</td>\n",
       "      <td>3433</td>\n",
       "      <td>12.0</td>\n",
       "      <td>70</td>\n",
       "      <td>usa</td>\n",
       "      <td>amc rebel sst</td>\n",
       "    </tr>\n",
       "    <tr>\n",
       "      <th>4</th>\n",
       "      <td>17.0</td>\n",
       "      <td>8</td>\n",
       "      <td>302.0</td>\n",
       "      <td>140.0</td>\n",
       "      <td>3449</td>\n",
       "      <td>10.5</td>\n",
       "      <td>70</td>\n",
       "      <td>usa</td>\n",
       "      <td>ford torino</td>\n",
       "    </tr>\n",
       "  </tbody>\n",
       "</table>\n",
       "</div>"
      ],
      "text/plain": [
       "    mpg  cylinders  displacement  horsepower  weight  acceleration  \\\n",
       "0  18.0          8         307.0       130.0    3504          12.0   \n",
       "1  15.0          8         350.0       165.0    3693          11.5   \n",
       "2  18.0          8         318.0       150.0    3436          11.0   \n",
       "3  16.0          8         304.0       150.0    3433          12.0   \n",
       "4  17.0          8         302.0       140.0    3449          10.5   \n",
       "\n",
       "   model_year origin                       name  \n",
       "0          70    usa  chevrolet chevelle malibu  \n",
       "1          70    usa          buick skylark 320  \n",
       "2          70    usa         plymouth satellite  \n",
       "3          70    usa              amc rebel sst  \n",
       "4          70    usa                ford torino  "
      ]
     },
     "execution_count": 8,
     "metadata": {},
     "output_type": "execute_result"
    }
   ],
   "source": [
    "#Importing the csv file of our data\n",
    "cars = pd.read_csv('cars.csv') \n",
    "#Showing the first five rows of our dataset\n",
    "cars.head(5)"
   ]
  },
  {
   "cell_type": "code",
   "execution_count": 9,
   "id": "ff52f690",
   "metadata": {},
   "outputs": [
    {
     "name": "stdout",
     "output_type": "stream",
     "text": [
      "<class 'pandas.core.frame.DataFrame'>\n",
      "RangeIndex: 398 entries, 0 to 397\n",
      "Data columns (total 9 columns):\n",
      " #   Column        Non-Null Count  Dtype  \n",
      "---  ------        --------------  -----  \n",
      " 0   mpg           398 non-null    float64\n",
      " 1   cylinders     398 non-null    int64  \n",
      " 2   displacement  398 non-null    float64\n",
      " 3   horsepower    392 non-null    float64\n",
      " 4   weight        398 non-null    int64  \n",
      " 5   acceleration  398 non-null    float64\n",
      " 6   model_year    398 non-null    int64  \n",
      " 7   origin        398 non-null    object \n",
      " 8   name          398 non-null    object \n",
      "dtypes: float64(4), int64(3), object(2)\n",
      "memory usage: 28.1+ KB\n",
      "\n",
      "\n",
      "Statistics \n",
      "\n",
      "              mpg   cylinders  displacement  horsepower       weight  \\\n",
      "count  398.000000  398.000000    398.000000  392.000000   398.000000   \n",
      "mean    23.514573    5.454774    193.425879  104.469388  2970.424623   \n",
      "std      7.815984    1.701004    104.269838   38.491160   846.841774   \n",
      "min      9.000000    3.000000     68.000000   46.000000  1613.000000   \n",
      "25%     17.500000    4.000000    104.250000   75.000000  2223.750000   \n",
      "50%     23.000000    4.000000    148.500000   93.500000  2803.500000   \n",
      "75%     29.000000    8.000000    262.000000  126.000000  3608.000000   \n",
      "max     46.600000    8.000000    455.000000  230.000000  5140.000000   \n",
      "\n",
      "       acceleration  model_year  \n",
      "count    398.000000  398.000000  \n",
      "mean      15.568090   76.010050  \n",
      "std        2.757689    3.697627  \n",
      "min        8.000000   70.000000  \n",
      "25%       13.825000   73.000000  \n",
      "50%       15.500000   76.000000  \n",
      "75%       17.175000   79.000000  \n",
      "max       24.800000   82.000000  \n"
     ]
    }
   ],
   "source": [
    "#Getting the information of the DataFrame cars\n",
    "cars.info()\n",
    "#Getting the descriptive statistics of our data\n",
    "print('\\n\\nStatistics \\n')\n",
    "print(cars.describe())"
   ]
  },
  {
   "cell_type": "markdown",
   "id": "09ed9536",
   "metadata": {},
   "source": [
    "# *Analysing the relationship between weight and acceleration of the vehicles"
   ]
  },
  {
   "cell_type": "code",
   "execution_count": 14,
   "id": "ee48cca3",
   "metadata": {},
   "outputs": [
    {
     "data": {
      "text/html": [
       "<div>\n",
       "<style scoped>\n",
       "    .dataframe tbody tr th:only-of-type {\n",
       "        vertical-align: middle;\n",
       "    }\n",
       "\n",
       "    .dataframe tbody tr th {\n",
       "        vertical-align: top;\n",
       "    }\n",
       "\n",
       "    .dataframe thead th {\n",
       "        text-align: right;\n",
       "    }\n",
       "</style>\n",
       "<table border=\"1\" class=\"dataframe\">\n",
       "  <thead>\n",
       "    <tr style=\"text-align: right;\">\n",
       "      <th></th>\n",
       "      <th>weight</th>\n",
       "      <th>acceleration</th>\n",
       "    </tr>\n",
       "  </thead>\n",
       "  <tbody>\n",
       "    <tr>\n",
       "      <th>0</th>\n",
       "      <td>3504</td>\n",
       "      <td>12.0</td>\n",
       "    </tr>\n",
       "    <tr>\n",
       "      <th>1</th>\n",
       "      <td>3693</td>\n",
       "      <td>11.5</td>\n",
       "    </tr>\n",
       "    <tr>\n",
       "      <th>2</th>\n",
       "      <td>3436</td>\n",
       "      <td>11.0</td>\n",
       "    </tr>\n",
       "    <tr>\n",
       "      <th>3</th>\n",
       "      <td>3433</td>\n",
       "      <td>12.0</td>\n",
       "    </tr>\n",
       "    <tr>\n",
       "      <th>4</th>\n",
       "      <td>3449</td>\n",
       "      <td>10.5</td>\n",
       "    </tr>\n",
       "    <tr>\n",
       "      <th>...</th>\n",
       "      <td>...</td>\n",
       "      <td>...</td>\n",
       "    </tr>\n",
       "    <tr>\n",
       "      <th>393</th>\n",
       "      <td>2790</td>\n",
       "      <td>15.6</td>\n",
       "    </tr>\n",
       "    <tr>\n",
       "      <th>394</th>\n",
       "      <td>2130</td>\n",
       "      <td>24.6</td>\n",
       "    </tr>\n",
       "    <tr>\n",
       "      <th>395</th>\n",
       "      <td>2295</td>\n",
       "      <td>11.6</td>\n",
       "    </tr>\n",
       "    <tr>\n",
       "      <th>396</th>\n",
       "      <td>2625</td>\n",
       "      <td>18.6</td>\n",
       "    </tr>\n",
       "    <tr>\n",
       "      <th>397</th>\n",
       "      <td>2720</td>\n",
       "      <td>19.4</td>\n",
       "    </tr>\n",
       "  </tbody>\n",
       "</table>\n",
       "<p>398 rows × 2 columns</p>\n",
       "</div>"
      ],
      "text/plain": [
       "     weight  acceleration\n",
       "0      3504          12.0\n",
       "1      3693          11.5\n",
       "2      3436          11.0\n",
       "3      3433          12.0\n",
       "4      3449          10.5\n",
       "..      ...           ...\n",
       "393    2790          15.6\n",
       "394    2130          24.6\n",
       "395    2295          11.6\n",
       "396    2625          18.6\n",
       "397    2720          19.4\n",
       "\n",
       "[398 rows x 2 columns]"
      ]
     },
     "execution_count": 14,
     "metadata": {},
     "output_type": "execute_result"
    }
   ],
   "source": [
    "#Extracting the two columns from the dataframe\n",
    "cars[['weight', 'acceleration']]"
   ]
  },
  {
   "cell_type": "code",
   "execution_count": 33,
   "id": "ecc32e44",
   "metadata": {
    "scrolled": true
   },
   "outputs": [
    {
     "data": {
      "image/png": "[encoded data removed]",
      "text/plain": [
       "<Figure size 432x288 with 1 Axes>"
      ]
     },
     "metadata": {
      "needs_background": "light"
     },
     "output_type": "display_data"
    }
   ],
   "source": [
    "#Plotting the two variables with acceleration on the x axis and weight on the y axis\n",
    "plt.scatter(cars['weight'], cars['acceleration'], color = 'g')\n",
    "plt.xlabel('Weight')\n",
    "plt.ylabel('Acceleration')\n",
    "plt.title('Scatter Plot for Weight against Acceleration')\n",
    "plt.show()"
   ]
  },
  {
   "cell_type": "markdown",
   "id": "45c30fed",
   "metadata": {},
   "source": [
    "From the scatter plot above it shows that as the weight of the vehicles increases the acceleration of the same decreases. This points out a negative correlation between the acceleration and weight of the motor vehicles. To futher find the degree of the negative association we employ the Pearson Correlation Coefficient, which is indicated in the line below"
   ]
  },
  {
   "cell_type": "code",
   "execution_count": 34,
   "id": "3c62c165",
   "metadata": {},
   "outputs": [
    {
     "data": {
      "text/plain": [
       "array([[ 1.        , -0.41745732],\n",
       "       [-0.41745732,  1.        ]])"
      ]
     },
     "execution_count": 34,
     "metadata": {},
     "output_type": "execute_result"
    }
   ],
   "source": [
    "#Using Numpy module to find the correlation between the two variables, weight and acceleration \n",
    "np.corrcoef(cars['weight'], cars['acceleration'])"
   ]
  },
  {
   "cell_type": "markdown",
   "id": "f530bad1",
   "metadata": {},
   "source": [
    "The 2x2 matrix above shows a coefficient matrix, and confirms that there is a negative correlation between the two variables of the magnitude -0.417 approximately. \n",
    "\n",
    "This means that as the weight of the observed motor vehicles is increasing the acceleration of the observed motor vehicles tend to decrease, and the same goes with the decrease in weight being witnessed by an increase in the acceleration. "
   ]
  },
  {
   "cell_type": "markdown",
   "id": "735a078a",
   "metadata": {},
   "source": [
    "# *Vehicles manufactured over the years"
   ]
  },
  {
   "cell_type": "code",
   "execution_count": 35,
   "id": "36343390",
   "metadata": {},
   "outputs": [
    {
     "data": {
      "text/html": [
       "<div>\n",
       "<style scoped>\n",
       "    .dataframe tbody tr th:only-of-type {\n",
       "        vertical-align: middle;\n",
       "    }\n",
       "\n",
       "    .dataframe tbody tr th {\n",
       "        vertical-align: top;\n",
       "    }\n",
       "\n",
       "    .dataframe thead th {\n",
       "        text-align: right;\n",
       "    }\n",
       "</style>\n",
       "<table border=\"1\" class=\"dataframe\">\n",
       "  <thead>\n",
       "    <tr style=\"text-align: right;\">\n",
       "      <th></th>\n",
       "      <th>mpg</th>\n",
       "      <th>cylinders</th>\n",
       "      <th>displacement</th>\n",
       "      <th>horsepower</th>\n",
       "      <th>weight</th>\n",
       "      <th>acceleration</th>\n",
       "      <th>model_year</th>\n",
       "      <th>origin</th>\n",
       "      <th>name</th>\n",
       "    </tr>\n",
       "  </thead>\n",
       "  <tbody>\n",
       "    <tr>\n",
       "      <th>0</th>\n",
       "      <td>18.0</td>\n",
       "      <td>8</td>\n",
       "      <td>307.0</td>\n",
       "      <td>130.0</td>\n",
       "      <td>3504</td>\n",
       "      <td>12.0</td>\n",
       "      <td>70</td>\n",
       "      <td>usa</td>\n",
       "      <td>chevrolet chevelle malibu</td>\n",
       "    </tr>\n",
       "    <tr>\n",
       "      <th>1</th>\n",
       "      <td>15.0</td>\n",
       "      <td>8</td>\n",
       "      <td>350.0</td>\n",
       "      <td>165.0</td>\n",
       "      <td>3693</td>\n",
       "      <td>11.5</td>\n",
       "      <td>70</td>\n",
       "      <td>usa</td>\n",
       "      <td>buick skylark 320</td>\n",
       "    </tr>\n",
       "    <tr>\n",
       "      <th>2</th>\n",
       "      <td>18.0</td>\n",
       "      <td>8</td>\n",
       "      <td>318.0</td>\n",
       "      <td>150.0</td>\n",
       "      <td>3436</td>\n",
       "      <td>11.0</td>\n",
       "      <td>70</td>\n",
       "      <td>usa</td>\n",
       "      <td>plymouth satellite</td>\n",
       "    </tr>\n",
       "    <tr>\n",
       "      <th>3</th>\n",
       "      <td>16.0</td>\n",
       "      <td>8</td>\n",
       "      <td>304.0</td>\n",
       "      <td>150.0</td>\n",
       "      <td>3433</td>\n",
       "      <td>12.0</td>\n",
       "      <td>70</td>\n",
       "      <td>usa</td>\n",
       "      <td>amc rebel sst</td>\n",
       "    </tr>\n",
       "    <tr>\n",
       "      <th>4</th>\n",
       "      <td>17.0</td>\n",
       "      <td>8</td>\n",
       "      <td>302.0</td>\n",
       "      <td>140.0</td>\n",
       "      <td>3449</td>\n",
       "      <td>10.5</td>\n",
       "      <td>70</td>\n",
       "      <td>usa</td>\n",
       "      <td>ford torino</td>\n",
       "    </tr>\n",
       "  </tbody>\n",
       "</table>\n",
       "</div>"
      ],
      "text/plain": [
       "    mpg  cylinders  displacement  horsepower  weight  acceleration  \\\n",
       "0  18.0          8         307.0       130.0    3504          12.0   \n",
       "1  15.0          8         350.0       165.0    3693          11.5   \n",
       "2  18.0          8         318.0       150.0    3436          11.0   \n",
       "3  16.0          8         304.0       150.0    3433          12.0   \n",
       "4  17.0          8         302.0       140.0    3449          10.5   \n",
       "\n",
       "   model_year origin                       name  \n",
       "0          70    usa  chevrolet chevelle malibu  \n",
       "1          70    usa          buick skylark 320  \n",
       "2          70    usa         plymouth satellite  \n",
       "3          70    usa              amc rebel sst  \n",
       "4          70    usa                ford torino  "
      ]
     },
     "execution_count": 35,
     "metadata": {},
     "output_type": "execute_result"
    }
   ],
   "source": [
    "cars.head(5)"
   ]
  },
  {
   "cell_type": "code",
   "execution_count": 71,
   "id": "a7a8cddd",
   "metadata": {},
   "outputs": [
    {
     "data": {
      "text/plain": [
       "73    40\n",
       "78    36\n",
       "76    34\n",
       "82    31\n",
       "75    30\n",
       "70    29\n",
       "79    29\n",
       "80    29\n",
       "81    29\n",
       "71    28\n",
       "72    28\n",
       "77    28\n",
       "74    27\n",
       "Name: model_year, dtype: int64"
      ]
     },
     "execution_count": 71,
     "metadata": {},
     "output_type": "execute_result"
    }
   ],
   "source": [
    "# Statistics of vehicles produced over the years \n",
    "from collections import Counter\n",
    "years = cars['model_year'].value_counts()\n",
    "years"
   ]
  },
  {
   "cell_type": "code",
   "execution_count": 87,
   "id": "8f282333",
   "metadata": {},
   "outputs": [
    {
     "data": {
      "image/png": "[encoded data removed]",
      "text/plain": [
       "<Figure size 432x288 with 1 Axes>"
      ]
     },
     "metadata": {
      "needs_background": "light"
     },
     "output_type": "display_data"
    }
   ],
   "source": [
    "#Plotting the graph of vehicles produced over the years\n",
    "plt.bar(years.index, years, color = 'green')\n",
    "plt.xlabel('Years')\n",
    "plt.ylabel('Vehicles Manufactured')\n",
    "plt.title('Vehicles Production')\n",
    "plt.show()"
   ]
  },
  {
   "cell_type": "code",
   "execution_count": 54,
   "id": "cc8c521b",
   "metadata": {
    "scrolled": true
   },
   "outputs": [
    {
     "data": {
      "text/plain": [
       "usa       249\n",
       "japan      79\n",
       "europe     70\n",
       "Name: origin, dtype: int64"
      ]
     },
     "execution_count": 54,
     "metadata": {},
     "output_type": "execute_result"
    }
   ],
   "source": [
    "#Evaluating the quantities of vehicles produced by origin\n",
    "origin = cars['origin'].value_counts()\n",
    "origin "
   ]
  },
  {
   "cell_type": "code",
   "execution_count": 89,
   "id": "3810cfd8",
   "metadata": {},
   "outputs": [
    {
     "data": {
      "image/png": "[encoded data removed]",
      "text/plain": [
       "<Figure size 432x288 with 1 Axes>"
      ]
     },
     "metadata": {
      "needs_background": "light"
     },
     "output_type": "display_data"
    }
   ],
   "source": [
    "#Plotting the graph\n",
    "plt.bar(origin.index, origin, color = 'orange') \n",
    "plt.xlabel('Country/Region')\n",
    "plt.ylabel('Vehicles Produced')\n",
    "plt.title('Vehicles Production by Origin')\n",
    "plt.show()"
   ]
  },
  {
   "cell_type": "code",
   "execution_count": 93,
   "id": "06ab4b59",
   "metadata": {
    "scrolled": true
   },
   "outputs": [
    {
     "data": {
      "text/plain": [
       "0      3504\n",
       "1      3693\n",
       "2      3436\n",
       "3      3433\n",
       "4      3449\n",
       "       ... \n",
       "393    2790\n",
       "394    2130\n",
       "395    2295\n",
       "396    2625\n",
       "397    2720\n",
       "Name: weight, Length: 398, dtype: int64"
      ]
     },
     "execution_count": 93,
     "metadata": {},
     "output_type": "execute_result"
    }
   ],
   "source": [
    "cars.weight"
   ]
  },
  {
   "cell_type": "code",
   "execution_count": 161,
   "id": "5efa7e17",
   "metadata": {},
   "outputs": [
    {
     "name": "stdout",
     "output_type": "stream",
     "text": [
      "Number of bins is : 19.949937343260004\n",
      "Bin width is : 176.79253520019606\n"
     ]
    }
   ],
   "source": [
    "#Number of bins using the formula - squareroot(number of observations) then round up \n",
    "\n",
    "bins = np.sqrt(len(cars.weight))\n",
    "\n",
    "d = cars['weight'].max() - cars['weight'].min()\n",
    "bin_width = d / bins \n",
    "\n",
    "print('Number of bins is :', bins)\n",
    "print('Bin width is :', bin_width)"
   ]
  },
  {
   "cell_type": "code",
   "execution_count": 162,
   "id": "7bc8dec9",
   "metadata": {},
   "outputs": [
    {
     "data": {
      "text/plain": [
       "0       (3424.5, 3608.0]\n",
       "1       (3608.0, 3806.0]\n",
       "2       (3424.5, 3608.0]\n",
       "3       (3424.5, 3608.0]\n",
       "4       (3424.5, 3608.0]\n",
       "             ...        \n",
       "393    (2670.65, 2803.5]\n",
       "394    (2093.25, 2155.0]\n",
       "395    (2223.75, 2301.0]\n",
       "396    (2580.6, 2670.65]\n",
       "397    (2670.65, 2803.5]\n",
       "Name: weight, Length: 398, dtype: category\n",
       "Categories (20, interval[float64]): [(1612.999, 1923.5] < (1923.5, 1988.5] < (1988.5, 2093.25] < (2093.25, 2155.0] ... (3806.0, 4067.65] < (4067.65, 4275.2] < (4275.2, 4464.0] < (4464.0, 5140.0]]"
      ]
     },
     "execution_count": 162,
     "metadata": {},
     "output_type": "execute_result"
    }
   ],
   "source": [
    "#Exploring the bins of the data\n",
    "hist = pd.qcut(cars.weight, 20)\n",
    "hist"
   ]
  },
  {
   "cell_type": "code",
   "execution_count": 163,
   "id": "7b065f44",
   "metadata": {},
   "outputs": [
    {
     "data": {
      "text/plain": [
       "(2093.25, 2155.0]     22\n",
       "(4275.2, 4464.0]      21\n",
       "(1612.999, 1923.5]    20\n",
       "(1923.5, 1988.5]      20\n",
       "(4067.65, 4275.2]     20\n",
       "(3806.0, 4067.65]     20\n",
       "(3608.0, 3806.0]      20\n",
       "(3424.5, 3608.0]      20\n",
       "(3085.2, 3250.7]      20\n",
       "(2937.2, 3085.2]      20\n",
       "(2803.5, 2937.2]      20\n",
       "(2670.65, 2803.5]     20\n",
       "(2580.6, 2670.65]     20\n",
       "(2429.5, 2580.6]      20\n",
       "(2223.75, 2301.0]     20\n",
       "(1988.5, 2093.25]     20\n",
       "(3250.7, 3424.5]      19\n",
       "(2301.0, 2429.5]      19\n",
       "(4464.0, 5140.0]      19\n",
       "(2155.0, 2223.75]     18\n",
       "Name: weight, dtype: int64"
      ]
     },
     "execution_count": 163,
     "metadata": {},
     "output_type": "execute_result"
    }
   ],
   "source": [
    "#Observing the counts or number of observations in each bin\n",
    "hist.value_counts()"
   ]
  },
  {
   "cell_type": "code",
   "execution_count": 188,
   "id": "d1d8faa2",
   "metadata": {},
   "outputs": [
    {
     "data": {
      "image/png": "[encoded data removed]",
      "text/plain": [
       "<Figure size 432x288 with 1 Axes>"
      ]
     },
     "metadata": {
      "needs_background": "light"
     },
     "output_type": "display_data"
    }
   ],
   "source": [
    "#Plotting the histogram using the plt function from the matplotlib library\n",
    "plt.hist(cars.weight, 20)\n",
    "plt.show()"
   ]
  },
  {
   "cell_type": "code",
   "execution_count": 201,
   "id": "5c86384e",
   "metadata": {},
   "outputs": [
    {
     "name": "stdout",
     "output_type": "stream",
     "text": [
      "[ 0.69281926  0.57336081 -0.71803969  0.33606764  0.78224183 -0.21374808\n",
      " -0.88020345  0.65165077 -0.49826232  0.94993552  0.46592    -1.83194075\n",
      " -0.10149241  0.26800318  0.05606698 -0.1879125   1.11601651  0.7160548\n",
      " -0.69532745  1.12441704]\n",
      "\n",
      "\n",
      "Maximum number is: 1.1244170406533867\n",
      "Minimum number is: -1.8319407503469798\n",
      "Bins width is (max - min) / len(z)): 0.14781788955001832\n"
     ]
    }
   ],
   "source": [
    "#Generating a list for normally distributed numbers to test the histogram plot accuracy against the bar plot\n",
    "z = np.random.randn(20)\n",
    "\n",
    "max = z.max()\n",
    "min = z.min() \n",
    "print(z)\n",
    "print('\\n')\n",
    "print('Maximum number is:', max) \n",
    "print('Minimum number is:', min)\n",
    "print('Bins width is (max - min) / len(z)):', (max - min) / len(z))\n"
   ]
  },
  {
   "cell_type": "code",
   "execution_count": 156,
   "id": "4c5c9ae0",
   "metadata": {},
   "outputs": [
    {
     "data": {
      "text/plain": [
       "4.47213595499958"
      ]
     },
     "execution_count": 156,
     "metadata": {},
     "output_type": "execute_result"
    }
   ],
   "source": [
    "#Finding the squareroot of the total number of observations to determine the number of bins\n",
    "np.sqrt(20) #Rounding up the number of bins gives us 5 "
   ]
  },
  {
   "cell_type": "code",
   "execution_count": 202,
   "id": "f9032eda",
   "metadata": {
    "scrolled": true
   },
   "outputs": [
    {
     "data": {
      "image/png": "[encoded data removed]",
      "text/plain": [
       "<Figure size 432x288 with 1 Axes>"
      ]
     },
     "metadata": {
      "needs_background": "light"
     },
     "output_type": "display_data"
    }
   ],
   "source": [
    "#Plotting the histogram using plt.hist() function \n",
    "plt.hist(z, 5)\n",
    "plt.show()"
   ]
  },
  {
   "cell_type": "code",
   "execution_count": 203,
   "id": "ac953e35",
   "metadata": {},
   "outputs": [
    {
     "data": {
      "text/plain": [
       "array([ 0.69281926,  0.57336081, -0.71803969,  0.33606764,  0.78224183,\n",
       "       -0.21374808, -0.88020345,  0.65165077, -0.49826232,  0.94993552,\n",
       "        0.46592   , -1.83194075, -0.10149241,  0.26800318,  0.05606698,\n",
       "       -0.1879125 ,  1.11601651,  0.7160548 , -0.69532745,  1.12441704])"
      ]
     },
     "execution_count": 203,
     "metadata": {},
     "output_type": "execute_result"
    }
   ],
   "source": [
    "z"
   ]
  },
  {
   "cell_type": "code",
   "execution_count": 204,
   "id": "1b64f1be",
   "metadata": {},
   "outputs": [
    {
     "data": {
      "text/plain": [
       "[(0.533, 1.124], (0.533, 1.124], (-1.241, -0.649], (-0.0581, 0.533], (0.533, 1.124], ..., (-0.649, -0.0581], (0.533, 1.124], (0.533, 1.124], (-1.241, -0.649], (0.533, 1.124]]\n",
       "Length: 20\n",
       "Categories (5, interval[float64]): [(-1.835, -1.241] < (-1.241, -0.649] < (-0.649, -0.0581] < (-0.0581, 0.533] < (0.533, 1.124]]"
      ]
     },
     "execution_count": 204,
     "metadata": {},
     "output_type": "execute_result"
    }
   ],
   "source": [
    "zbins = pd.cut(z, 5)\n",
    "zbins"
   ]
  },
  {
   "cell_type": "code",
   "execution_count": 205,
   "id": "d2c0ec49",
   "metadata": {},
   "outputs": [
    {
     "data": {
      "text/plain": [
       "(-1.835, -1.241]     1\n",
       "(-1.241, -0.649]     3\n",
       "(-0.649, -0.0581]    4\n",
       "(-0.0581, 0.533]     4\n",
       "(0.533, 1.124]       8\n",
       "dtype: int64"
      ]
     },
     "execution_count": 205,
     "metadata": {},
     "output_type": "execute_result"
    }
   ],
   "source": [
    "zbins.value_counts()"
   ]
  },
  {
   "cell_type": "code",
   "execution_count": null,
   "id": "3b0f0a7a",
   "metadata": {},
   "outputs": [],
   "source": []
  }
 ],
 "metadata": {
  "kernelspec": {
   "display_name": "Python 3",
   "language": "python",
   "name": "python3"
  },
  "language_info": {
   "codemirror_mode": {
    "name": "ipython",
    "version": 3
   },
   "file_extension": ".py",
   "mimetype": "text/x-python",
   "name": "python",
   "nbconvert_exporter": "python",
   "pygments_lexer": "ipython3",
   "version": "3.8.8"
  }
 },
 "nbformat": 4,
 "nbformat_minor": 5
}
